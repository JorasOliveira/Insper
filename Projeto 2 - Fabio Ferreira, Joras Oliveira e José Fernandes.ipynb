{
 "cells": [
  {
   "cell_type": "markdown",
   "metadata": {},
   "source": [
    "# Projeto 2 - Fabio Ferreira, Joras Oliveira e José Fernandes"
   ]
  },
  {
   "cell_type": "markdown",
   "metadata": {},
   "source": [
    "TEMOS Q DESCREVER O PROJETO E COLOCAR O DIAGRAMA DE ESTOQUES E FLUXOS"
   ]
  },
  {
   "cell_type": "markdown",
   "metadata": {},
   "source": [
    "**Importando bibliotecas**"
   ]
  },
  {
   "cell_type": "code",
   "execution_count": 1,
   "metadata": {},
   "outputs": [],
   "source": [
    "from scipy.integrate import odeint\n",
    "import matplotlib.pyplot as plt\n",
    "import numpy as np\n",
    "import math"
   ]
  },
  {
   "cell_type": "markdown",
   "metadata": {},
   "source": [
    "**Definindo os parâmetros**"
   ]
  },
  {
   "cell_type": "code",
   "execution_count": 2,
   "metadata": {},
   "outputs": [],
   "source": [
    "p = 79 #Potência do motor (W)\n",
    "e = 0.77 #Eficiência do motor (77%)\n",
    "\n",
    "Magua = 0.3 #Massa da água no copo (Kg)\n",
    "Cagua = 4220 #Calor específico da água (J/Kg*K) \n",
    "Mar = 0.81 #Massa de ar no freezer (Kg)\n",
    "Car = 1005 #Calor específico do ar (J/Kg*K)\n",
    "\n",
    "T0agua = 363.15 #Temperatura inicial do ar (K)\n",
    "T0ar = 257.15 #Temperatura inicial da água (K)\n",
    "t = [T0agua, T0ar] \n",
    "Tamb = 298.15 #Temperatura do ambiente (K)\n",
    "\n",
    "Ac = (0.05 * 0.05) + (0.05 * 0.15 * 4) #Area do copo (m)\n",
    "As = (0.05 * 0.05) #Area da superfície(m)\n",
    "Areaintparede = (0.45 * 0.45 * 2) + (1 * 0.5 * 4) #(m)\n",
    "Areaextparede = (0.5 * 0.5 * 2) + (1 * 0.5 * 4) #(m)\n",
    "a = [Areaintparede, Areaextparede] #Area interna e externa da parede\n",
    "Dparede = 0.05 #Espessura da parede (m)\n",
    "r1 = 0.03 #raio interno do copo (m)\n",
    "r2 = 0.035 #raio externo do copo (m)\n",
    "\n",
    "h = 10 #Coeficiente de transferencia convectiva da água (W/m^2*K)\n",
    "Kc = 0.02 #Coeficiente de condutividade térmica do copo(W/m*K)\n",
    "Kp = 0.05 #Coeficiente de condutividade térmica da parede(W/m*K)"
   ]
  },
  {
   "cell_type": "markdown",
   "metadata": {},
   "source": [
    "**Calculando as resistências térmicas**"
   ]
  },
  {
   "cell_type": "code",
   "execution_count": 6,
   "metadata": {},
   "outputs": [],
   "source": [
    "R = math.log(r2/r1)/(Kp * 0.15 * 2 *math.pi)\n",
    "res = 1/(h * Ac)\n",
    "res1 = 1/(h * Areaintparede)\n",
    "res2 = Dparede/(Kp * Areaintparede)\n",
    "res3 = 1/(h * Areaextparede)"
   ]
  },
  {
   "cell_type": "markdown",
   "metadata": {},
   "source": [
    "**Criando a função do modelo**"
   ]
  },
  {
   "cell_type": "code",
   "execution_count": 7,
   "metadata": {},
   "outputs": [],
   "source": [
    "def modelo(T, t): \n",
    "    Tagua = T[0]\n",
    "    Tar = T[1]\n",
    "    \n",
    "    q1 = h * As * (Tagua - Tar)\n",
    "    q2 = (Tagua - Tar) / (res + R)            \n",
    "    qp = (Tamb - Tar) / (res1 + res2 + res3)\n",
    "    qm = p* e\n",
    "    \n",
    "    dtAguadT = 1/(Magua * Cagua)*(-q1 - q2)\n",
    "    dtArdT = 1/(Mar * Car)*(q1 + q2 + qp - qm)\n",
    "    dxdt = [dtAguadT,dtArdT]\n",
    "    \n",
    "    return dxdt"
   ]
  },
  {
   "cell_type": "markdown",
   "metadata": {},
   "source": [
    "**Resolvendo o modelo e plotando o gráfico**"
   ]
  },
  {
   "cell_type": "code",
   "execution_count": 11,
   "metadata": {},
   "outputs": [
    {
     "data": {
      "image/png": "[encoded data removed]",
      "text/plain": [
       "<Figure size 432x288 with 1 Axes>"
      ]
     },
     "metadata": {
      "needs_background": "light"
     },
     "output_type": "display_data"
    }
   ],
   "source": [
    "#Criando a lista de tempo\n",
    "deltaT = 1\n",
    "tempo = np.arange(1, 18000, deltaT) #5h \n",
    "\n",
    "#Resolvendo o modelo\n",
    "solucao = odeint(modelo, t, tempo)\n",
    "\n",
    "#Plotando o gráfico\n",
    "plt.plot(tempo/3600, solucao[:,0]-275.15, \"turquoise\", label = \"Temperatura da água\")\n",
    "plt.plot(tempo/3600, solucao[:,1]-273.15, \"darkmagenta\",  label ='Temperatura do ar do freezer')\n",
    "plt.xlabel(\"Tempo - Horas\")\n",
    "plt.ylabel(\"Temperatura - Celsius\")\n",
    "plt.title(\"Variação da temperatura da agua e do ar do freezer\")\n",
    "plt.grid(True)\n",
    "plt.legend()\n",
    "plt.show()"
   ]
  },
  {
   "cell_type": "markdown",
   "metadata": {},
   "source": [
    "**Dados de validação**"
   ]
  },
  {
   "cell_type": "code",
   "execution_count": null,
   "metadata": {},
   "outputs": [],
   "source": []
  },
  {
   "cell_type": "markdown",
   "metadata": {},
   "source": [
    "**Gráfico comparativo entre validação e modelo**"
   ]
  },
  {
   "cell_type": "code",
   "execution_count": null,
   "metadata": {},
   "outputs": [],
   "source": []
  },
  {
   "cell_type": "markdown",
   "metadata": {},
   "source": [
    "# **Perguntas e Gráficos Conclusivos**"
   ]
  },
  {
   "cell_type": "markdown",
   "metadata": {},
   "source": [
    "Primeira pergunta: De que forma as dimensões do copo alteram a temperatura final da água após três horas?\n",
    "\n",
    "Segunda pergunta:  Alterar a massa de água interfere no tempo para a temperatura atingir 0˚C?\n",
    "\n",
    "Terceira Pergunta: Como diferentes eficiências do motor alteram o tempo de equilíbrio do modelo?\n"
   ]
  },
  {
   "cell_type": "code",
   "execution_count": null,
   "metadata": {},
   "outputs": [],
   "source": [
    "#Priemeira pergunta\n",
    "\n",
    "\n",
    "\n"
   ]
  }
 ],
 "metadata": {
  "kernelspec": {
   "display_name": "Python 3",
   "language": "python",
   "name": "python3"
  },
  "language_info": {
   "codemirror_mode": {
    "name": "ipython",
    "version": 3
   },
   "file_extension": ".py",
   "mimetype": "text/x-python",
   "name": "python",
   "nbconvert_exporter": "python",
   "pygments_lexer": "ipython3",
   "version": "3.7.6"
  }
 },
 "nbformat": 4,
 "nbformat_minor": 4
}
