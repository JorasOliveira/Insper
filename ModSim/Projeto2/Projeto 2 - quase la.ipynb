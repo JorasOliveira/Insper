{
 "cells": [
  {
   "cell_type": "markdown",
   "metadata": {},
   "source": [
    "# Projeto 2 - Fabio Ferreira, Joras Oliveira e José Fernandes"
   ]
  },
  {
   "cell_type": "markdown",
   "metadata": {},
   "source": [
    "TEMOS Q DESCREVER O PROJETO E COLOCAR O DIAGRAMA DE ESTOQUES E FLUXOS"
   ]
  },
  {
   "cell_type": "markdown",
   "metadata": {},
   "source": [
    "**Importando bibliotecas**"
   ]
  },
  {
   "cell_type": "code",
   "execution_count": null,
   "metadata": {},
   "outputs": [],
   "source": [
    "from scipy.integrate import odeint\n",
    "import matplotlib.pyplot as plt\n",
    "import numpy as np\n",
    "import math"
   ]
  },
  {
   "cell_type": "markdown",
   "metadata": {},
   "source": [
    "**Definindo os parâmetros**"
   ]
  },
  {
   "cell_type": "code",
   "execution_count": null,
   "metadata": {},
   "outputs": [],
   "source": [
    "p = 79 #Potência do motor (W)\n",
    "e = 0.77 #Eficiência do motor (77%)\n",
    "\n",
    "Magua = 0.3 #Massa da água no copo (Kg)\n",
    "Cagua = 4220 #Calor específico da água (J/Kg*K) \n",
    "Mar = 0.81 #Massa de ar no freezer (Kg)\n",
    "Car = 1005 #Calor específico do ar (J/Kg*K)\n",
    "\n",
    "T0agua = 363.15 #Temperatura inicial do ar (K)\n",
    "T0ar = 257.15 #Temperatura inicial da água (K)\n",
    "t = [T0agua, T0ar] \n",
    "Tamb = 298.15 #Temperatura do ambiente (K)\n",
    "\n",
    "Ac = (0.05 * 0.05) + (0.05 * 0.15 * 4) #Area do copo (m)\n",
    "As = (0.05 * 0.05) #Area da superfície(m)\n",
    "Areaintparede = (0.45 * 0.45 * 2) + (1 * 0.5 * 4) #(m)\n",
    "Areaextparede = (0.5 * 0.5 * 2) + (1 * 0.5 * 4) #(m)\n",
    "a = [Areaintparede, Areaextparede] #Area interna e externa da parede\n",
    "Dparede = 0.05 #Espessura da parede (m)\n",
    "r1 = 0.037 #raio interno do copo (m)\n",
    "r2 = 0.04 #raio externo do copo (m)\n",
    "\n",
    "h = 10 #Coeficiente de transferencia convectiva da água (W/m^2*K)\n",
    "Kc = 0.02 #Coeficiente de condutividade térmica do copo(W/m*K)\n",
    "Kp = 0.05 #Coeficiente de condutividade térmica da parede(W/m*K)"
   ]
  },
  {
   "cell_type": "markdown",
   "metadata": {},
   "source": [
    "**Calculando as resistências térmicas**"
   ]
  },
  {
   "cell_type": "code",
   "execution_count": null,
   "metadata": {},
   "outputs": [],
   "source": [
    "R = math.log(r2/r1)/(Kp * 0.12 * 2 *math.pi)\n",
    "res = 1/(h * Ac)\n",
    "res1 = 1/(h * Areaintparede)\n",
    "res2 = Dparede/(Kp * Areaintparede)\n",
    "res3 = 1/(h * Areaextparede)"
   ]
  },
  {
   "cell_type": "markdown",
   "metadata": {},
   "source": [
    "**Criando a função do modelo**"
   ]
  },
  {
   "cell_type": "code",
   "execution_count": null,
   "metadata": {},
   "outputs": [],
   "source": [
    "def modelo(T, t): \n",
    "    Tagua = T[0]\n",
    "    Tar = T[1]\n",
    "    \n",
    "    q1 = h * As * (Tagua - Tar)\n",
    "    q2 = (Tagua - Tar) / (res + R)            \n",
    "    qp = (Tamb - Tar) / (res1 + res2 + res3)\n",
    "    qm = p* e\n",
    "    \n",
    "    dtAguadT = 1/(Magua * Cagua)*(-q1 - q2)\n",
    "    dtArdT = 1/(Mar * Car)*(q1 + q2 + qp - qm)\n",
    "    dxdt = [dtAguadT,dtArdT]\n",
    "    \n",
    "    return dxdt"
   ]
  },
  {
   "cell_type": "markdown",
   "metadata": {},
   "source": [
    "**Resolvendo o modelo e plotando o gráfico**"
   ]
  },
  {
   "cell_type": "code",
   "execution_count": null,
   "metadata": {},
   "outputs": [],
   "source": [
    "#Criando a lista de tempo\n",
    "deltaT = 1\n",
    "tempo = np.arange(1, 18000, deltaT) #5h \n",
    "\n",
    "#Resolvendo o modelo\n",
    "solucao = odeint(modelo, t, tempo)\n",
    "\n",
    "#Plotando o gráfico\n",
    "plt.plot(tempo/3600, solucao[:,0]-275.15, \"turquoise\", label = \"Temperatura da água\")\n",
    "plt.plot(tempo/3600, solucao[:,1]-273.15, \"darkmagenta\",  label ='Temperatura do ar do freezer')\n",
    "plt.xlabel(\"Tempo - Horas\")\n",
    "plt.ylabel(\"Temperatura - Celsius\")\n",
    "plt.title(\"Variação da temperatura da agua e do ar do freezer\")\n",
    "plt.grid(True)\n",
    "plt.legend()\n",
    "plt.show()"
   ]
  },
  {
   "cell_type": "markdown",
   "metadata": {},
   "source": [
    "**Dados de validação**"
   ]
  },
  {
   "cell_type": "code",
   "execution_count": null,
   "metadata": {},
   "outputs": [],
   "source": []
  },
  {
   "cell_type": "markdown",
   "metadata": {},
   "source": [
    "**Gráfico comparativo entre validação e modelo**"
   ]
  },
  {
   "cell_type": "code",
   "execution_count": null,
   "metadata": {},
   "outputs": [],
   "source": []
  },
  {
   "cell_type": "markdown",
   "metadata": {},
   "source": [
    "\n",
    "# **Perguntas e Gráficos Conclusivos**"
   ]
  },
  {
   "cell_type": "markdown",
   "metadata": {},
   "source": [
    "Primeira pergunta: De que forma as dimensões do copo alteram a temperatura final da água após três horas?\n",
    "\n",
    "Segunda pergunta:  Alterar a massa de água interfere no tempo para a temperatura da agua atingir 0˚C?\n",
    "\n",
    "Terceira Pergunta: Como diferentes eficiências do motor alteram o tempo de equilíbrio do modelo?\n"
   ]
  },
  {
   "cell_type": "markdown",
   "metadata": {},
   "source": [
    "**Priemira pergunta:**"
   ]
  },
  {
   "cell_type": "markdown",
   "metadata": {},
   "source": [
    "definindo os diferentes volumes do copo, massas da agua e novo intervalo de tempo:"
   ]
  },
  {
   "cell_type": "code",
   "execution_count": null,
   "metadata": {},
   "outputs": [],
   "source": [
    "#Priemeira pergunta\n",
    "AltC = 0.12 #altura do copo em metros\n",
    "\n",
    "Re = [0.045, 0.05, 0.055, 0.06, 0.065, 0.07, 0.075, 0.08, 0.085, 0.09] # diferentes dimensoes para o raio externo\n",
    "Ri = []  # raio interno\n",
    "\n",
    "Ma = []  #massa de agua no copo\n",
    "\n",
    "deltaT = 1\n",
    "tempo = np.arange(1, 10800, deltaT) #3h \n",
    "\n",
    "valores = []  #os valores que teremos no final\n",
    "\n",
    "for r in Re:\n",
    "    Ri.append(r-0.003) #o raio interneo = o raio extermo - a espessura do copo\n",
    "    \n",
    "for r in Ri:\n",
    "    Ma.append(r*AltC) #calculando a massa da agua para cada dimensao do copo"
   ]
  },
  {
   "cell_type": "markdown",
   "metadata": {},
   "source": [
    "**calculando a pergunta 2 e plotando o grafico**\n"
   ]
  },
  {
   "cell_type": "code",
   "execution_count": null,
   "metadata": {},
   "outputs": [],
   "source": [
    "#novo modelo:\n",
    "def modelo2(T, t, R, Magua): \n",
    "    Tagua = T[0]\n",
    "    Tar = T[1]\n",
    "    \n",
    "    q1 = h * As * (Tagua - Tar)\n",
    "    q2 = (Tagua - Tar) / (res + R)            \n",
    "    qp = (Tamb - Tar) / (res1 + res2 + res3)\n",
    "    qm = p* e\n",
    "    \n",
    "    dtAguadT = 1/(Magua * Cagua)*(-q1 - q2)\n",
    "    dtArdT = 1/(Mar * Car)*(q1 + q2 + qp - qm)\n",
    "    dxdt = [dtAguadT,dtArdT]\n",
    "    \n",
    "    return dxdt"
   ]
  },
  {
   "cell_type": "code",
   "execution_count": null,
   "metadata": {},
   "outputs": [],
   "source": [
    "n = 0\n",
    "for n in range(10):\n",
    "    R2 = math.log(Re[n]/Ri[n])/(Kp * 0.12 * 2 *math.pi) #recalulando o R para o modelo\n",
    "    Magua2 = Ma[n] #redefinindo o valor de Magua no modelo\n",
    "    \n",
    "    result = odeint(modelo2, t, tempo, args=(R2, Magua2))\n",
    "    k = result[:,0]\n",
    "    valores.append((k[-1] - 273.15)*1000000) # colocando a temperatura final na lista, convertendo para celcius, \n",
    "    n+=1                                     # e multiplicando pro 10^5 para facilitar a leitura\n",
    "\n",
    "Re = [i * 100 for i in Re]\n",
    "plt.plot(Re, valores, 'o-', label = \"Temperatura da água\",)\n",
    "#plt.plot(Re, valores, \"darkmagenta\",  label ='Temperatura do ar do freezer')\n",
    "plt.xlabel(\"Raio externo - Cm\")\n",
    "plt.ylabel(\"Temperatura Final - Celsius * 10^-5\")\n",
    "#plt.title(\"Variação da temperatura da agua e do ar do freezer\")\n",
    "plt.grid(True)\n",
    "plt.legend()\n",
    "plt.show()"
   ]
  },
  {
   "cell_type": "markdown",
   "metadata": {},
   "source": [
    "**Segunda Pergunta**"
   ]
  },
  {
   "cell_type": "markdown",
   "metadata": {},
   "source": [
    "Redefinindo os valores mudados para o calculo da primeira pergunta, de volta para os valores originais"
   ]
  },
  {
   "cell_type": "code",
   "execution_count": null,
   "metadata": {},
   "outputs": [],
   "source": [
    "step = 0.025\n",
    "Ma = np.arange(0.025, 0.3, deltaT) #5h "
   ]
  },
  {
   "cell_type": "code",
   "execution_count": null,
   "metadata": {},
   "outputs": [],
   "source": [
    "n = 0\n",
    "for n in range(10):\n",
    "    Magua2 = Ma2[n] #redefinindo o valor de Magua no modelo\n",
    "    result = odeint(modelo2, t, tempo, args=(R,Magua2))\n",
    "    temperaturas = (result[:,0]-273.15)\n",
    "    n+=1    "
   ]
  },
  {
   "cell_type": "markdown",
   "metadata": {},
   "source": [
    "**Terceira Pergunta:**"
   ]
  },
  {
   "cell_type": "code",
   "execution_count": null,
   "metadata": {},
   "outputs": [],
   "source": [
    "efi = np.arange(0.55, 1, 0.05)\n",
    "tempo2 = np.arange(0, 80000000, 1)\n",
    "\n",
    "def modelo3(T, t, e): \n",
    "    Tagua = T[0]\n",
    "    Tar = T[1]\n",
    "    \n",
    "    q1 = h * As * (Tagua - Tar)\n",
    "    q2 = (Tagua - Tar) / (res + R)            \n",
    "    qp = (Tamb - Tar) / (res1 + res2 + res3)\n",
    "    qm = p* e\n",
    "    \n",
    "    dtAguadT = 1/(Magua * Cagua)*(-q1 - q2)\n",
    "    dtArdT = 1/(Mar * Car)*(q1 + q2 + qp - qm)\n",
    "    dxdt = [dtAguadT,dtArdT]\n",
    "    \n",
    "    return dxdt\n",
    "\n",
    "tempoequi = []\n",
    "\n",
    "for i in range(len(efi)):\n",
    "    solucao3 = odeint(modelo3, t, tempo2, args=(efi[i],))\n",
    "    tempagua2 = solucao3[:,0]\n",
    "    tempar2 = solucao3[:,1]\n",
    "    for e in range(len(tempagua2)):\n",
    "        if tempagua2[e] == tempar2[e]:\n",
    "            tempoequi.append((tempagua2[e]-273.15))\n",
    "            break\n",
    "\n",
    "eficiencia = [e * 100 for e in efi]\n",
    "\n",
    "plt.plot(tempoequi, eficiencia, 'r-o')\n",
    "plt.title('Como diferentes eficiências do motor alteram a temperatura de equilíbrio')\n",
    "plt.xlabel('Temperatura de equilibrio - Celsius')\n",
    "plt.ylabel('Eficiência do Motor %')\n",
    "plt.grid(True)\n",
    "plt.show()"
   ]
  },
  {
   "cell_type": "code",
   "execution_count": null,
   "metadata": {},
   "outputs": [],
   "source": []
  }
 ],
 "metadata": {
  "kernelspec": {
   "display_name": "Python 3",
   "language": "python",
   "name": "python3"
  },
  "language_info": {
   "codemirror_mode": {
    "name": "ipython",
    "version": 3
   },
   "file_extension": ".py",
   "mimetype": "text/x-python",
   "name": "python",
   "nbconvert_exporter": "python",
   "pygments_lexer": "ipython3",
   "version": "3.7.6"
  }
 },
 "nbformat": 4,
 "nbformat_minor": 4
}
